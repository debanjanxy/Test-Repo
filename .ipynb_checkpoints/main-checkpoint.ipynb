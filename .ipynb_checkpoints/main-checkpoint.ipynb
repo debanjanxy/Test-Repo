{
 "cells": [
  {
   "cell_type": "code",
   "execution_count": 13,
   "metadata": {},
   "outputs": [],
   "source": [
    "import webbrowser\n",
    "import requests\n",
    "import sys\n",
    "import re"
   ]
  },
  {
   "cell_type": "code",
   "execution_count": 16,
   "metadata": {},
   "outputs": [],
   "source": [
    "#It performs log-in into the moodle\n",
    "def moodle_login(username,password):\n",
    "    session = requests.session()\n",
    "    url = \"http://moodle.iitb.ac.in/login/index.php\"\n",
    "    values = {'username':username,\n",
    "         'password':password}\n",
    "    res = session.post(url,data=values)\n",
    "    if res.status_code!=200:\n",
    "        print(\"Error in login\")\n",
    "        return 0\n",
    "    else:\n",
    "        print(\"Login successful\")\n",
    "        return 1"
   ]
  }
 ],
 "metadata": {
  "kernelspec": {
   "display_name": "Python 3",
   "language": "python",
   "name": "python3"
  },
  "language_info": {
   "codemirror_mode": {
    "name": "ipython",
    "version": 3
   },
   "file_extension": ".py",
   "mimetype": "text/x-python",
   "name": "python",
   "nbconvert_exporter": "python",
   "pygments_lexer": "ipython3",
   "version": "3.5.2"
  }
 },
 "nbformat": 4,
 "nbformat_minor": 2
}
